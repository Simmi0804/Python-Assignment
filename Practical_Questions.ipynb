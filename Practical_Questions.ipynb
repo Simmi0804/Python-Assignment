{
  "nbformat": 4,
  "nbformat_minor": 0,
  "metadata": {
    "colab": {
      "provenance": []
    },
    "kernelspec": {
      "name": "python3",
      "display_name": "Python 3"
    },
    "language_info": {
      "name": "python"
    }
  },
  "cells": [
    {
      "cell_type": "markdown",
      "source": [
        "Write a Python program to print \"Hello, World!?"
      ],
      "metadata": {
        "id": "aEI910zbCOo1"
      }
    },
    {
      "cell_type": "code",
      "execution_count": 1,
      "metadata": {
        "id": "heIbNJwpbqLn",
        "colab": {
          "base_uri": "https://localhost:8080/"
        },
        "outputId": "fe39f778-c731-41af-914b-6420670791ad"
      },
      "outputs": [
        {
          "output_type": "stream",
          "name": "stdout",
          "text": [
            "Hello, World!\n"
          ]
        }
      ],
      "source": [
        "print(\"Hello, World!\")"
      ]
    },
    {
      "cell_type": "markdown",
      "source": [
        "Write a Python program that displays your name and age?"
      ],
      "metadata": {
        "id": "ZC_-4TwsCNzu"
      }
    },
    {
      "cell_type": "code",
      "source": [
        "name = \"Simranjeet Kaur\"\n",
        "age = 27\n",
        "print(\"My name is\", name)\n",
        "print(\"I am\", age, \"years old\")"
      ],
      "metadata": {
        "colab": {
          "base_uri": "https://localhost:8080/"
        },
        "id": "AKI8vyzX88kj",
        "outputId": "749620b4-c9cc-4312-adb9-55e417e7a1aa"
      },
      "execution_count": 6,
      "outputs": [
        {
          "output_type": "stream",
          "name": "stdout",
          "text": [
            "My name is Simranjeet Kaur\n",
            "I am 27 years old\n"
          ]
        }
      ]
    },
    {
      "cell_type": "markdown",
      "source": [
        "Write code to print all the pre-defined keywords in Python using the keyword library?"
      ],
      "metadata": {
        "id": "Vqtk2n5ECatz"
      }
    },
    {
      "cell_type": "code",
      "source": [
        "import keyword\n",
        "print(\"Python Keyword:\")\n",
        "print(keyword.kwlist)"
      ],
      "metadata": {
        "colab": {
          "base_uri": "https://localhost:8080/"
        },
        "id": "ZVTwRlPy9PIb",
        "outputId": "640a7296-5e33-4581-8c34-95793c7fc602"
      },
      "execution_count": 11,
      "outputs": [
        {
          "output_type": "stream",
          "name": "stdout",
          "text": [
            "Python Keyword:\n",
            "['False', 'None', 'True', 'and', 'as', 'assert', 'async', 'await', 'break', 'class', 'continue', 'def', 'del', 'elif', 'else', 'except', 'finally', 'for', 'from', 'global', 'if', 'import', 'in', 'is', 'lambda', 'nonlocal', 'not', 'or', 'pass', 'raise', 'return', 'try', 'while', 'with', 'yield']\n"
          ]
        }
      ]
    },
    {
      "cell_type": "markdown",
      "source": [
        "Write a program that checks if a given word is a Python keyword?"
      ],
      "metadata": {
        "id": "ZdgvZgU2Cs5w"
      }
    },
    {
      "cell_type": "code",
      "source": [
        "import keyword\n",
        "word = input(\"Enter a word: \")\n",
        "if keyword.iskeyword(word):\n",
        "   print(f\"'{word}' is a Python keyword.\")\n",
        "else:\n",
        "    print(f\"'{word}' is NOT a Python keyword.\")"
      ],
      "metadata": {
        "colab": {
          "base_uri": "https://localhost:8080/"
        },
        "id": "C9dHNsVR_pl-",
        "outputId": "7f499700-1b6a-4b2f-e05d-a9de62c9e1d0"
      },
      "execution_count": 16,
      "outputs": [
        {
          "output_type": "stream",
          "name": "stdout",
          "text": [
            "Enter a word: as\n",
            "'as' is a Python keyword.\n"
          ]
        }
      ]
    },
    {
      "cell_type": "markdown",
      "source": [
        "Create a list and tuple in Python, and demonstrate how attempting to change an element works differently\n",
        "for each?\n",
        "\n",
        "\n"
      ],
      "metadata": {
        "id": "AWYAZRg_Cy-O"
      }
    },
    {
      "cell_type": "markdown",
      "source": [
        "For List:"
      ],
      "metadata": {
        "id": "TBkTzL8wC1zo"
      }
    },
    {
      "cell_type": "code",
      "source": [
        "my_list = [10, 20, 30, 40]\n",
        "print(\"Original List:\", my_list)\n",
        "my_list[1] = 99\n",
        "print(\"Modified List:\", my_list)"
      ],
      "metadata": {
        "colab": {
          "base_uri": "https://localhost:8080/"
        },
        "id": "YCQCGaUzAC0l",
        "outputId": "fa97901d-52c9-48d5-b5a7-ddfdd12ffdf1"
      },
      "execution_count": 17,
      "outputs": [
        {
          "output_type": "stream",
          "name": "stdout",
          "text": [
            "Original List: [10, 20, 30, 40]\n",
            "Modified List: [10, 99, 30, 40]\n"
          ]
        }
      ]
    },
    {
      "cell_type": "markdown",
      "source": [
        "For tuple"
      ],
      "metadata": {
        "id": "pykIUyNvC303"
      }
    },
    {
      "cell_type": "code",
      "source": [
        "my_tuple = (10, 20, 30, 40)\n",
        "print(\"Original Tuple:\", my_tuple)\n",
        "my_tuple[1] = 99"
      ],
      "metadata": {
        "colab": {
          "base_uri": "https://localhost:8080/",
          "height": 193
        },
        "id": "I7R-8GEUBy9c",
        "outputId": "97fba64e-6352-4dac-d804-e1912e9a64ba"
      },
      "execution_count": 18,
      "outputs": [
        {
          "output_type": "stream",
          "name": "stdout",
          "text": [
            "Original Tuple: (10, 20, 30, 40)\n"
          ]
        },
        {
          "output_type": "error",
          "ename": "TypeError",
          "evalue": "'tuple' object does not support item assignment",
          "traceback": [
            "\u001b[0;31m---------------------------------------------------------------------------\u001b[0m",
            "\u001b[0;31mTypeError\u001b[0m                                 Traceback (most recent call last)",
            "\u001b[0;32m<ipython-input-18-541669675c67>\u001b[0m in \u001b[0;36m<cell line: 0>\u001b[0;34m()\u001b[0m\n\u001b[1;32m      1\u001b[0m \u001b[0mmy_tuple\u001b[0m \u001b[0;34m=\u001b[0m \u001b[0;34m(\u001b[0m\u001b[0;36m10\u001b[0m\u001b[0;34m,\u001b[0m \u001b[0;36m20\u001b[0m\u001b[0;34m,\u001b[0m \u001b[0;36m30\u001b[0m\u001b[0;34m,\u001b[0m \u001b[0;36m40\u001b[0m\u001b[0;34m)\u001b[0m\u001b[0;34m\u001b[0m\u001b[0;34m\u001b[0m\u001b[0m\n\u001b[1;32m      2\u001b[0m \u001b[0mprint\u001b[0m\u001b[0;34m(\u001b[0m\u001b[0;34m\"Original Tuple:\"\u001b[0m\u001b[0;34m,\u001b[0m \u001b[0mmy_tuple\u001b[0m\u001b[0;34m)\u001b[0m\u001b[0;34m\u001b[0m\u001b[0;34m\u001b[0m\u001b[0m\n\u001b[0;32m----> 3\u001b[0;31m \u001b[0mmy_tuple\u001b[0m\u001b[0;34m[\u001b[0m\u001b[0;36m1\u001b[0m\u001b[0;34m]\u001b[0m \u001b[0;34m=\u001b[0m \u001b[0;36m99\u001b[0m\u001b[0;34m\u001b[0m\u001b[0;34m\u001b[0m\u001b[0m\n\u001b[0m",
            "\u001b[0;31mTypeError\u001b[0m: 'tuple' object does not support item assignment"
          ]
        }
      ]
    },
    {
      "cell_type": "markdown",
      "source": [
        "Write a function to demonstrate the behavior of mutable and immutable arguments?"
      ],
      "metadata": {
        "id": "GU-jXQj2C7AU"
      }
    },
    {
      "cell_type": "code",
      "source": [
        "def modify_immutable(x):\n",
        "    print(\"Before modification:\", x)\n",
        "    x = x + 10\n",
        "    print(\"After modification:\", x)\n",
        "\n",
        "def modify_mutable(lst):\n",
        "    print(\"Before modification:\", lst)\n",
        "    lst.append(99)\n",
        "    print(\"After modification:\", lst)\n",
        "\n",
        "num = 5\n",
        "print(\"\\nImmutable Example:\")\n",
        "modify_immutable(num)\n",
        "print(\"Outside function:\", num)\n",
        "\n",
        "my_list = [1, 2, 3]\n",
        "print(\"\\nMutable Example:\")\n",
        "modify_mutable(my_list)\n",
        "print(\"Outside function:\", my_list)\n"
      ],
      "metadata": {
        "colab": {
          "base_uri": "https://localhost:8080/"
        },
        "id": "6ttnnMRrB-qF",
        "outputId": "186d7139-e6c7-40e4-c47d-eb21961806bf"
      },
      "execution_count": 19,
      "outputs": [
        {
          "output_type": "stream",
          "name": "stdout",
          "text": [
            "\n",
            "Immutable Example:\n",
            "Before modification: 5\n",
            "After modification: 15\n",
            "Outside function: 5\n",
            "\n",
            "Mutable Example:\n",
            "Before modification: [1, 2, 3]\n",
            "After modification: [1, 2, 3, 99]\n",
            "Outside function: [1, 2, 3, 99]\n"
          ]
        }
      ]
    },
    {
      "cell_type": "markdown",
      "source": [
        "Write a program to demonstrate the use of logical operators?"
      ],
      "metadata": {
        "id": "Th1040QODnka"
      }
    },
    {
      "cell_type": "code",
      "source": [
        "# Taking user input\n",
        "age = int(input(\"Enter your age: \"))\n",
        "has_id = input(\"Do you have an ID? (yes/no): \").strip().lower() == \"yes\"\n",
        "\n",
        "# Using logical AND\n",
        "if age >= 18 and has_id:\n",
        "    print(\"You are eligible to vote.\")\n",
        "else:\n",
        "    print(\"You are NOT eligible to vote.\")\n",
        "\n",
        "# Using logical OR\n",
        "if age < 18 or not has_id:\n",
        "    print(\"You either don't meet the age requirement or don't have an ID.\")\n",
        "\n",
        "# Using logical NOT\n",
        "if not has_id:\n",
        "    print(\"You must have an ID to vote.\")"
      ],
      "metadata": {
        "colab": {
          "base_uri": "https://localhost:8080/"
        },
        "id": "UeXIa3DmDq1v",
        "outputId": "aefa961c-f06d-48b8-86f6-c56e30eba4ef"
      },
      "execution_count": 23,
      "outputs": [
        {
          "output_type": "stream",
          "name": "stdout",
          "text": [
            "Enter your age: 25\n",
            "Do you have an ID? (yes/no): YES\n",
            "You are eligible to vote.\n"
          ]
        }
      ]
    },
    {
      "cell_type": "markdown",
      "source": [],
      "metadata": {
        "id": "QtxRzK1gDpjB"
      }
    },
    {
      "cell_type": "markdown",
      "source": [
        "Write a Python program to convert user input from string to integer, float, and boolean types?"
      ],
      "metadata": {
        "id": "19a14uTgFw0y"
      }
    },
    {
      "cell_type": "code",
      "source": [
        "# Taking user input as a string\n",
        "user_input = input(\"Enter a value: \")\n",
        "\n",
        "# Converting to different data types\n",
        "try:\n",
        "    int_value = int(user_input)  # Convert to integer\n",
        "    print(\"Integer:\", int_value)\n",
        "except ValueError:\n",
        "    print(\"Cannot convert to integer.\")\n",
        "\n",
        "try:\n",
        "    float_value = float(user_input)  # Convert to float\n",
        "    print(\"Float:\", float_value)\n",
        "except ValueError:\n",
        "    print(\"Cannot convert to float.\")\n",
        "\n",
        "# Convert to boolean\n",
        "bool_value = bool(user_input)  # Empty string -> False, Otherwise -> True\n",
        "print(\"Boolean:\", bool_value)"
      ],
      "metadata": {
        "colab": {
          "base_uri": "https://localhost:8080/"
        },
        "id": "AHeX54S8Fwdq",
        "outputId": "ec5c06d7-eaf8-4ec6-f89d-a3eb47a7e4e8"
      },
      "execution_count": 24,
      "outputs": [
        {
          "output_type": "stream",
          "name": "stdout",
          "text": [
            "Enter a value: 25\n",
            "Integer: 25\n",
            "Float: 25.0\n",
            "Boolean: True\n"
          ]
        }
      ]
    },
    {
      "cell_type": "markdown",
      "source": [
        "Write code to demonstrate type casting with list elements?"
      ],
      "metadata": {
        "id": "Ja6WOw9oGIyM"
      }
    },
    {
      "cell_type": "code",
      "source": [
        "# List of strings\n",
        "string_list = [\"10\", \"20.5\", \"0\", \"hello\", \"\"]\n",
        "\n",
        "# Convert to integers (only possible if the value is a whole number)\n",
        "int_list = []\n",
        "for item in string_list:\n",
        "    try:\n",
        "        int_list.append(int(item))\n",
        "    except ValueError:\n",
        "        int_list.append(None)  # Mark non-convertible values\n",
        "\n",
        "# Convert to floats\n",
        "float_list = []\n",
        "for item in string_list:\n",
        "    try:\n",
        "        float_list.append(float(item))\n",
        "    except ValueError:\n",
        "        float_list.append(None)\n",
        "\n",
        "# Convert to boolean\n",
        "bool_list = [bool(item) for item in string_list]  # Empty string → False, Others → True\n",
        "\n",
        "# Print results\n",
        "print(\"Original List: \", string_list)\n",
        "print(\"Integer List:  \", int_list)\n",
        "print(\"Float List:    \", float_list)\n",
        "print(\"Boolean List:  \", bool_list)"
      ],
      "metadata": {
        "colab": {
          "base_uri": "https://localhost:8080/"
        },
        "id": "66nxxw08GOHZ",
        "outputId": "8023e3c1-453e-475e-8926-5bf83949697e"
      },
      "execution_count": 25,
      "outputs": [
        {
          "output_type": "stream",
          "name": "stdout",
          "text": [
            "Original List:  ['10', '20.5', '0', 'hello', '']\n",
            "Integer List:   [10, None, 0, None, None]\n",
            "Float List:     [10.0, 20.5, 0.0, None, None]\n",
            "Boolean List:   [True, True, True, True, False]\n"
          ]
        }
      ]
    },
    {
      "cell_type": "markdown",
      "source": [
        "Write a program that checks if a number is positive, negative, or zero?"
      ],
      "metadata": {
        "id": "KYp0M84eGdm3"
      }
    },
    {
      "cell_type": "code",
      "source": [
        "# Take user input\n",
        "num = float(input(\"Enter a number: \"))\n",
        "\n",
        "# Check if the number is positive, negative, or zero\n",
        "if num > 0:\n",
        "    print(\"The number is Positive.\")\n",
        "elif num < 0:\n",
        "    print(\"The number is Negative.\")\n",
        "else:\n",
        "    print(\"The number is Zero.\")"
      ],
      "metadata": {
        "colab": {
          "base_uri": "https://localhost:8080/"
        },
        "id": "G6mbp6-pGgtU",
        "outputId": "725e7931-bddc-4d39-8347-dbdea6ab7850"
      },
      "execution_count": 27,
      "outputs": [
        {
          "output_type": "stream",
          "name": "stdout",
          "text": [
            "Enter a number: 45\n",
            "The number is Positive.\n"
          ]
        }
      ]
    },
    {
      "cell_type": "markdown",
      "source": [
        "Write a for loop to print numbers from 1 to 100?"
      ],
      "metadata": {
        "id": "ouBswErQG4ji"
      }
    },
    {
      "cell_type": "code",
      "source": [
        "for num in range(1, 101):\n",
        "    print(num)"
      ],
      "metadata": {
        "colab": {
          "base_uri": "https://localhost:8080/"
        },
        "id": "vEBZ7KtnG9lI",
        "outputId": "913118f4-e910-4a24-f056-0f01ff576e36"
      },
      "execution_count": 28,
      "outputs": [
        {
          "output_type": "stream",
          "name": "stdout",
          "text": [
            "1\n",
            "2\n",
            "3\n",
            "4\n",
            "5\n",
            "6\n",
            "7\n",
            "8\n",
            "9\n",
            "10\n",
            "11\n",
            "12\n",
            "13\n",
            "14\n",
            "15\n",
            "16\n",
            "17\n",
            "18\n",
            "19\n",
            "20\n",
            "21\n",
            "22\n",
            "23\n",
            "24\n",
            "25\n",
            "26\n",
            "27\n",
            "28\n",
            "29\n",
            "30\n",
            "31\n",
            "32\n",
            "33\n",
            "34\n",
            "35\n",
            "36\n",
            "37\n",
            "38\n",
            "39\n",
            "40\n",
            "41\n",
            "42\n",
            "43\n",
            "44\n",
            "45\n",
            "46\n",
            "47\n",
            "48\n",
            "49\n",
            "50\n",
            "51\n",
            "52\n",
            "53\n",
            "54\n",
            "55\n",
            "56\n",
            "57\n",
            "58\n",
            "59\n",
            "60\n",
            "61\n",
            "62\n",
            "63\n",
            "64\n",
            "65\n",
            "66\n",
            "67\n",
            "68\n",
            "69\n",
            "70\n",
            "71\n",
            "72\n",
            "73\n",
            "74\n",
            "75\n",
            "76\n",
            "77\n",
            "78\n",
            "79\n",
            "80\n",
            "81\n",
            "82\n",
            "83\n",
            "84\n",
            "85\n",
            "86\n",
            "87\n",
            "88\n",
            "89\n",
            "90\n",
            "91\n",
            "92\n",
            "93\n",
            "94\n",
            "95\n",
            "96\n",
            "97\n",
            "98\n",
            "99\n",
            "100\n"
          ]
        }
      ]
    },
    {
      "cell_type": "markdown",
      "source": [
        "Write a Python program to find the sum of all even numbers between 1 and 500?"
      ],
      "metadata": {
        "id": "_F_rzIVVHJf3"
      }
    },
    {
      "cell_type": "code",
      "source": [
        "# Initialize sum variable\n",
        "even_sum = 0\n",
        "\n",
        "# Loop through even numbers from 2 to 500\n",
        "for num in range(2, 501, 2):  # Step of 2 ensures only even numbers are considered\n",
        "    even_sum += num\n",
        "\n",
        "# Print the sum\n",
        "print(\"Sum of all even numbers between 1 and 500:\", even_sum)"
      ],
      "metadata": {
        "colab": {
          "base_uri": "https://localhost:8080/"
        },
        "id": "O-rBqhkeHNKQ",
        "outputId": "caf68a47-6c7e-4aa1-e41e-824fb85ed72f"
      },
      "execution_count": 29,
      "outputs": [
        {
          "output_type": "stream",
          "name": "stdout",
          "text": [
            "Sum of all even numbers between 1 and 500: 62750\n"
          ]
        }
      ]
    },
    {
      "cell_type": "markdown",
      "source": [
        "Write a program to reverse a string using a while loop?"
      ],
      "metadata": {
        "id": "hTxBv1ZvH83Q"
      }
    },
    {
      "cell_type": "code",
      "source": [
        "original_string = input(\"Enter a string: \")\n",
        "\n",
        "# Initialize variables\n",
        "reversed_string = \"\"\n",
        "index = len(original_string) - 1\n",
        "\n",
        "# While loop to reverse the string\n",
        "while index >= 0:\n",
        "    reversed_string += original_string[index]  # Append characters in reverse order\n",
        "    index -= 1  # Move to the previous character\n",
        "\n",
        "# Print the reversed string\n",
        "print(\"Reversed String:\", reversed_string)"
      ],
      "metadata": {
        "colab": {
          "base_uri": "https://localhost:8080/"
        },
        "id": "NL_8ZlV3IAxZ",
        "outputId": "acf923bf-b54f-441a-e749-ccc116a1b175"
      },
      "execution_count": 30,
      "outputs": [
        {
          "output_type": "stream",
          "name": "stdout",
          "text": [
            "Enter a string: Python\n",
            "Reversed String: nohtyP\n"
          ]
        }
      ]
    },
    {
      "cell_type": "markdown",
      "source": [
        "Write a Python program to calculate the factorial of a number provided by the user using a while loop?"
      ],
      "metadata": {
        "id": "yPSrvY7WIedT"
      }
    },
    {
      "cell_type": "code",
      "source": [
        "# Take user input\n",
        "num = int(input(\"Enter a number: \"))\n",
        "\n",
        "# Initialize variables\n",
        "factorial = 1\n",
        "i = num  # Start from the given number\n",
        "\n",
        "# While loop to calculate factorial\n",
        "while i > 1:\n",
        "    factorial *= i  # Multiply factorial by current number\n",
        "    i -= 1  # Decrease the number\n",
        "\n",
        "# Print the factorial\n",
        "print(f\"Factorial of {num} is {factorial}\")"
      ],
      "metadata": {
        "colab": {
          "base_uri": "https://localhost:8080/"
        },
        "id": "zO7jwuFVIhhu",
        "outputId": "082511ea-ce8d-4d83-f154-292aa457ac72"
      },
      "execution_count": 31,
      "outputs": [
        {
          "output_type": "stream",
          "name": "stdout",
          "text": [
            "Enter a number: 5\n",
            "Factorial of 5 is 120\n"
          ]
        }
      ]
    }
  ]
}